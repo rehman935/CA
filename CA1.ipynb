{
 "cells": [
  {
   "cell_type": "code",
   "execution_count": 7,
   "id": "53403c3f-d6c5-40b7-8d80-069892da3265",
   "metadata": {},
   "outputs": [
    {
     "name": "stdout",
     "output_type": "stream",
     "text": [
      "Optimal Solution:\n",
      "x1 = 20.0\n",
      "x3 = 7.941176470588236\n",
      "x4 = 5.0\n",
      "x5 = 14.411764705882353\n",
      "Total Profit = -197.94117647058823\n"
     ]
    },
    {
     "name": "stderr",
     "output_type": "stream",
     "text": [
      "/var/folders/md/xm4b9kq5105cgvng0dcbhkym0000gn/T/ipykernel_62342/3041273480.py:36: RuntimeWarning: divide by zero encountered in divide\n",
      "  ratios = tableau[:-1, -1] / tableau[:-1, col]\n"
     ]
    }
   ],
   "source": [
    "import numpy as np\n",
    "\n",
    "# Define the coefficients matrix (including all variables)\n",
    "A = np.array([\n",
    "    [2, 3, 1, 4, 5],  # Labor constraint\n",
    "    [3, 2, 4, 1, 3],  # Machine time constraint\n",
    "    [4, 1, 3, 2, 2],  # Raw materials constraint\n",
    "    [1, 0, 0, 0, 0],  # P1 production limit\n",
    "    [0, 1, 1, 0, 0],  # P2 and P3 combined production\n",
    "    [0, 0, 0, 1, 0]   # Minimum P4 production\n",
    "])\n",
    "\n",
    "# Define the RHS vector\n",
    "b = np.array([100, 80, 70, 20, 10, 5])\n",
    "\n",
    "# Define the objective function coefficients (negative for maximization)\n",
    "c = np.array([-5, -4, -6, -7, -8])\n",
    "\n",
    "# Function to perform Simplex method\n",
    "def simplex_method(A, b, c):\n",
    "    m, n = A.shape\n",
    "    tableau = np.zeros((m + 1, n + 1))\n",
    "    tableau[:-1, :-1] = A\n",
    "    tableau[:-1, -1] = b\n",
    "    tableau[-1, :-1] = c\n",
    "\n",
    "    while np.any(tableau[-1, :-1] < 0):\n",
    "        # Pivot column (entering variable)\n",
    "        col = np.argmin(tableau[-1, :-1])\n",
    "\n",
    "        # Check for unboundedness\n",
    "        if np.all(tableau[:-1, col] <= 0):\n",
    "            raise ValueError('Problem is unbounded')\n",
    "\n",
    "        # Pivot row (leaving variable)\n",
    "        ratios = tableau[:-1, -1] / tableau[:-1, col]\n",
    "        ratios[tableau[:-1, col] <= 0] = np.inf\n",
    "        row = np.argmin(ratios)\n",
    "\n",
    "        # Pivot the tableau\n",
    "        pivot = tableau[row, col]\n",
    "        tableau[row, :] /= pivot\n",
    "\n",
    "        for r in range(m + 1):\n",
    "            if r != row:\n",
    "                tableau[r, :] -= tableau[r, col] * tableau[row, :]\n",
    "\n",
    "    return tableau\n",
    "\n",
    "# Perform Simplex method\n",
    "tableau = simplex_method(A, b, c)\n",
    "\n",
    "# Print results\n",
    "print(\"Optimal Solution:\")\n",
    "solution = np.zeros(c.shape)\n",
    "for i in range(A.shape[1]):\n",
    "    idx = np.where(tableau[:, i] == 1)[0]\n",
    "    if len(idx) == 1 and idx[0] < len(b):\n",
    "        solution[i] = tableau[idx[0], -1]\n",
    "        print(f\"x{i+1} = {solution[i]}\")\n",
    "\n",
    "print(\"Total Profit =\", -tableau[-1, -1])\n"
   ]
  },
  {
   "cell_type": "code",
   "execution_count": null,
   "id": "6c1452cc-6021-4dc3-83a0-da54f5d1918f",
   "metadata": {},
   "outputs": [],
   "source": []
  }
 ],
 "metadata": {
  "kernelspec": {
   "display_name": "Python 3 (ipykernel)",
   "language": "python",
   "name": "python3"
  },
  "language_info": {
   "codemirror_mode": {
    "name": "ipython",
    "version": 3
   },
   "file_extension": ".py",
   "mimetype": "text/x-python",
   "name": "python",
   "nbconvert_exporter": "python",
   "pygments_lexer": "ipython3",
   "version": "3.11.7"
  }
 },
 "nbformat": 4,
 "nbformat_minor": 5
}
